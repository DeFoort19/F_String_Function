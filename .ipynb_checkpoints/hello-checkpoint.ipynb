{
 "cells": [
  {
   "cell_type": "code",
   "execution_count": 3,
   "id": "3f227904-37a9-496b-87a7-39f15f69df49",
   "metadata": {},
   "outputs": [],
   "source": [
    "# Create customHello function\n",
    "def customHello(name, age, state):\n",
    "    \n",
    "    # Printing custom message\n",
    "    print(f\"Hello, {name}. I am {age} years old. I live in {state}.\")"
   ]
  },
  {
   "cell_type": "code",
   "execution_count": 4,
   "id": "f0ea9f5a-f7ed-4c70-a9dc-aeba26fdda5c",
   "metadata": {},
   "outputs": [
    {
     "name": "stdout",
     "output_type": "stream",
     "text": [
      "Hello, Brandon. I am 27 years old. I live in Illinois.\n"
     ]
    }
   ],
   "source": [
    "# Calling customHello Function\n",
    "customHello(\"Brandon\", 27, \"Illinois\")"
   ]
  },
  {
   "cell_type": "code",
   "execution_count": null,
   "id": "dd30a9c3-5ea9-45fd-8098-d817d72db1fc",
   "metadata": {},
   "outputs": [],
   "source": []
  }
 ],
 "metadata": {
  "kernelspec": {
   "display_name": "Python 3 (ipykernel)",
   "language": "python",
   "name": "python3"
  },
  "language_info": {
   "codemirror_mode": {
    "name": "ipython",
    "version": 3
   },
   "file_extension": ".py",
   "mimetype": "text/x-python",
   "name": "python",
   "nbconvert_exporter": "python",
   "pygments_lexer": "ipython3",
   "version": "3.9.5"
  }
 },
 "nbformat": 4,
 "nbformat_minor": 5
}
